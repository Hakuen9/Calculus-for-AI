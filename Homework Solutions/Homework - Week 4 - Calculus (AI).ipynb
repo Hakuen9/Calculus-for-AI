{
  "nbformat": 4,
  "nbformat_minor": 0,
  "metadata": {
    "colab": {
      "name": "Homework  - Week 4 - Calculus (AI)",
      "provenance": [],
      "collapsed_sections": []
    },
    "kernelspec": {
      "display_name": "Python 3",
      "language": "python",
      "name": "python3"
    },
    "language_info": {
      "codemirror_mode": {
        "name": "ipython",
        "version": 3
      },
      "file_extension": ".py",
      "mimetype": "text/x-python",
      "name": "python",
      "nbconvert_exporter": "python",
      "pygments_lexer": "ipython3",
      "version": "3.8.3"
    }
  },
  "cells": [
    {
      "cell_type": "markdown",
      "metadata": {
        "id": "gsCS0l1iQUVx"
      },
      "source": [
        "# Practical 4: Optimization\n",
        "\n",
        "In the lecture, we developed a simple recepit for finding and identifying maxima and minima of a function:\n",
        "1) Compute the derivative\n",
        "2) Set the derivative equal to zero and solve for $x$. The solutions are the critical points.\n",
        "3) Compute the second derivative at the critical points. If it is positive the point is a point of (local) minimum while if it is negative it is a point of (local) maximum.\n",
        "\n",
        "### Solved exercise 1\n",
        "Find the points of local minimum and local maximum of the following function:\n",
        "\n",
        "$$\n",
        "f(x) = \\exp(x) \\left( x^2 - x + 1 \\right)\n",
        "$$\n",
        "\n",
        "### Solution\n",
        "Step one: Compute the derivative:\n",
        "$$\n",
        "\\frac{\\text{d} f}{\\text{d} x} = \\exp(x) \\left(x^2 + x\\right)\n",
        "$$\n",
        "Step two: Solve for the critical points:\n",
        "\n",
        "$$\n",
        "\\exp(x) \\left(x^2 + x\\right) = 0\n",
        "$$\n",
        "\n",
        "The exponential is always positive, therefore we can divide both sides:\n",
        "\n",
        "$$\n",
        "x^2 + x = 0\n",
        "$$\n",
        "\n",
        "This equation is solved by $x_1 = 0$ and $x_2 = -1$.\n",
        "\n",
        "Step three: Let's compute the second derivative:\n",
        "\n",
        "$$\n",
        "\\frac{\\text{d}^2 f}{\\text{d} x^2} = \\frac{\\text{d}}{\\text{d} x} \\left( \\frac{\\text{d} f}{\\text{d} x} \\right) = \\frac{\\text{d}}{\\text{d} x} \\left( \\exp(x) \\left(x^2 + x\\right) \\right) = \\exp(x) \\left( x^2 + 3x + 1 \\right)\n",
        "$$\n",
        "\n",
        "We can now evaluate the second derivative at the critical points. For $x_1$ we get\n",
        "\n",
        "\n",
        "$$\n",
        "\\frac{\\text{d}^2 f(0)}{\\text{d} x^2} = \\exp(0) \\left(0 + 3 \\times 0 + 1\\right) = 1 \n",
        "$$\n",
        "\n",
        "therefore $x_1$ is a point of minimum. On the other hand, for $x_2$ we get\n",
        "\n",
        "$$\n",
        "\\frac{\\text{d}^2 f(0)}{\\text{d} x^2} = \\exp(-1) \\left(1 - 3 + 1\\right) = -e^{-1}  \n",
        "$$\n",
        "\n",
        "which is negative, therefore $x_2$ is a point of local maximum.\n",
        "\n",
        "### Solved Python exercise 1\n",
        "Validate these results by plotting the function between $-2$ and $0.5$ using Python.\n",
        "\n",
        "#### Solution"
      ]
    },
    {
      "cell_type": "code",
      "metadata": {
        "id": "eRZhCWipfLMN",
        "outputId": "b890aa5c-b554-48ab-d620-a5dbf64df6e6",
        "colab": {
          "base_uri": "https://localhost:8080/",
          "height": 287
        }
      },
      "source": [
        "import numpy as np\n",
        "import matplotlib.pyplot as plt\n",
        "\n",
        "f = lambda x: np.exp(x)*(x**2 - x + 1)\n",
        "x_range = np.linspace(-2,0.5,100)\n",
        "x1 = 0.\n",
        "x2 = -1.\n",
        "\n",
        "plt.plot(x_range, f(x_range))\n",
        "plt.axvline(x=x1, c=\"k\", ls=\"--\", label = \"x1\")\n",
        "plt.axvline(x=x2, c=\"r\", ls=\"--\", label = \"x2\")\n",
        "plt.legend(loc=\"best\")"
      ],
      "execution_count": null,
      "outputs": [
        {
          "output_type": "execute_result",
          "data": {
            "text/plain": [
              "<matplotlib.legend.Legend at 0x7fa8f6102438>"
            ]
          },
          "metadata": {
            "tags": []
          },
          "execution_count": 1
        },
        {
          "output_type": "display_data",
          "data": {
            "image/png": "[encoded data removed]",
            "text/plain": [
              "<Figure size 432x288 with 1 Axes>"
            ]
          },
          "metadata": {
            "tags": [],
            "needs_background": "light"
          }
        }
      ]
    },
    {
      "cell_type": "markdown",
      "metadata": {
        "id": "CxfwvD3jMllc"
      },
      "source": [
        "### Exercises 1\n",
        "Find the points of local maxima and minima of the following functions:\n",
        "- $f(x) = x^3 - x^2 + 4$\n",
        "- $f(x) = e^{2x} \\left(x^2 - x \\right)$\n",
        "- $f(x) = \\exp(-0.5 (x - 3)^2)$\n",
        "- $f(x) = \\exp(-x^2) x $\n",
        "- $f(x) = -(a - x b)^2 - 0.5 c x^2$ (where $a$, $b$ are numbers and $c$ is a positive number)\n",
        "\n",
        "#### Solutions\n",
        "- $3x^2 - 2x = 0, x = 0, 3x = 2x, x = 2/3, x_1 = 0$ (local maximum) and $x_2 = 2/3$ (local minimum)\n",
        "- $x_1 = -1/\\sqrt{2}$ (local maximum) and $x_2 = 1/\\sqrt{2}$ (local minimum)\n",
        "- $x_1 = 3$ (local maximum)\n",
        "- $x_1 = -1/\\sqrt{2}$ (local minimum) and $x_2 = 1/\\sqrt{2}$ (local maximum)\n",
        "- $x_1 = ab/(b^2 + c)$  (local minimum)"
      ]
    },
    {
      "cell_type": "markdown",
      "metadata": {
        "id": "Vi01-P-QMllg"
      },
      "source": [
        "> Exercise 1A\n",
        "\n",
        "$f(x) = x^3 - x^2 + 4$\n",
        "\n",
        "$\\frac{df}{dx}[x^3 - x^2 + 4] = 3x^2 - 2x $\n",
        "\n",
        "$ 3x^2 - 2x = 0 $\n",
        "\n",
        "$ x (3x - 2) = 0 $\n",
        "\n",
        "$ x = 0 $ or $ 3x - 2 = 0 \\Rightarrow 3x = 2 \\Rightarrow x = \\frac{2}{3}$ (extrema)\n",
        "\n",
        "<br> \n",
        "\n",
        "$ \\frac{df}{dx}[3x^2 - 2x] = 6x - 2 $\n",
        "\n",
        "$\\frac{\\text{d}^2 f(0)}{\\text{d} x^2} = 6 \\cdot 0 - 2 = -2 $ (A local maximum)\n",
        "\n",
        "$\\frac{\\text{d}^2 f(0)}{\\text{d} x^2} = 6 \\cdot \\frac{2}{3} - 2 = 2 $ (A local minimum)\n",
        "\n",
        "<br>\n",
        "\n",
        "$ f(0) = 0^3 - 0^2 + 4 = 4$ (Maxima) \n",
        "\n",
        "$ f(\\frac{2}{3}) = (\\frac{2}{3})^3 - (\\frac{2}{3})^2 + 4 = 3 \\frac{23}{27}$ (Minima) \n",
        "\n",
        "Therefore we get the following extreme values for the function $f(x) = x^3 - x^2 + 4$, a local maximum at point (0, 4) and a local minimum at point $(\\frac{2}{3},3 \\frac{23}{27})$.\n",
        "\n",
        "\n",
        "\n",
        "\n"
      ]
    },
    {
      "cell_type": "markdown",
      "metadata": {
        "id": "-uKjTH4-Mllj"
      },
      "source": [
        "> Exercise 1B\n",
        "\n",
        "$f(x) = e^{2x} \\left(x^2 - x \\right)$\n",
        "\n",
        "$\\frac{df}{dx}[e^{2x} (x^2 - x)] = e^{2x} (2x - 1) + 2e^{2x} (x^2 - x) = e^{2x} (2x^2 - 1)$\n",
        "\n",
        "$ e^{2x} (2x - 1) + 2e^{2x} (x^2 - x) = 0$\n",
        "\n",
        "$ e^{2x} (2x - 1) = - 2e^{2x} (x^2 - x) $\n",
        "\n",
        "$  2x - 1 = -2x^2 + 2x $\n",
        "\n",
        "$  2x^2 - 1 = 0  $\n",
        "\n",
        "$  x^2 = \\frac{1}{2} $\n",
        "\n",
        "$  x = \\pm \\sqrt{\\frac{1}{2}} = \\pm \\frac{1}{\\sqrt{2}} $ or $ \\pm \\frac{\\sqrt{2}}{2} $ (When rationalizing the denominator)\n",
        "\n",
        "<br>\n",
        "\n",
        "$\\frac{df}{dx}[e^{2x} (2x^2 - 1)] = 4xe^{2x} + 2e^{2x}(2x^2 - 1) = e^{2x}(4x^2 + 4x - 2) $ \n",
        "\n",
        "<br>\n",
        "\n",
        "$\\frac{\\text{d}^2 f(\\frac{1}{\\sqrt{2}})}{\\text{d} x^2} = e^{2 \\cdot \\frac{1}{\\sqrt{2}}}(4 \\cdot (\\frac{1}{\\sqrt{2}}^2) + 4 \\cdot \\frac{1}{\\sqrt{2}} - 2) = e^{\\frac{\\sqrt{2} \\cdot \\sqrt{2}}{\\sqrt{2}}} (4 \\cdot \\frac{1}{2} + \\frac{2 \\cdot \\sqrt{2} \\sqrt{2}}{\\sqrt{2}} - 2) = e^{\\sqrt{2}} (2 + 2\\sqrt{2} - 2) = e^{\\sqrt{2}}(2\\sqrt{2})$ (which is positive, meaning it is a local minimum).\n",
        "\n",
        "<br>\n",
        "\n",
        "$\\frac{\\text{d}^2 f(-\\frac{1}{\\sqrt{2}})}{\\text{d} x^2} = e^{2 \\cdot -\\frac{1}{\\sqrt{2}}}(4 \\cdot ((-\\frac{1}{\\sqrt{2}})^2) + 4 \\cdot -\\frac{1}{\\sqrt{2}} - 2) = e^{\\frac{\\sqrt{2} \\cdot \\sqrt{2}}{-\\sqrt{2}}} (4 \\cdot \\frac{1}{2} + \\frac{2 \\cdot \\sqrt{2} \\sqrt{2}}{-\\sqrt{2}} - 2) = e^{-\\sqrt{2}} (2 - 2\\sqrt{2} - 2) = e^{-\\sqrt{2}}(-2\\sqrt{2})$  (which is negative, meaning it is a local maximum).\n",
        "\n",
        "<br>\n",
        "\n",
        "Therefore we get the following extreme values for the function $f(x) = e^{2x} \\left(x^2 - x \\right)$, a local maximum at point $(-\\frac{1}{\\sqrt{2}}, e^{-\\sqrt{2}}(-2\\sqrt{2}))$ and a local minimum at point $(\\frac{1}{\\sqrt{2}},e^{\\sqrt{2}}(2\\sqrt{2}))$.\n",
        "\n",
        "\n",
        "\n"
      ]
    },
    {
      "cell_type": "markdown",
      "metadata": {
        "id": "KQs7zg6PMlll"
      },
      "source": [
        "> Exercise 1C\n",
        "\n",
        "$f(x) = \\exp(-0.5 (x - 3)^2) = e^{-0.5 (x - 3)^2}$\n",
        "\n",
        "<br>\n",
        "\n",
        "$f(y(x)) = e^u $, $f'(y(x)) = e^u $\n",
        "\n",
        "$y(x) = -0.5 (x - 3)^2$, $ y'(x) = -x + 3$\n",
        "\n",
        "$ f'(y(x)) \\cdot y'(x) = (e^u)(3 - x) = (e^{-0.5 (x - 3)^2})(3 - x)$\n",
        "\n",
        "Find the extrema:\n",
        "\n",
        "$ (e^{-0.5 (x - 3)^2})(3 - x) \\Rightarrow e^{-0.5 (x - 3)^2} = 0 $ or $ 3 - x = 0$\n",
        "\n",
        "$ - x = - 3 \\Rightarrow x = 3$\n",
        "\n",
        "<br>\n",
        "\n",
        "Now the second derivative:\n",
        "\n",
        "$f(x) = e^{-0.5 (x - 3)^2} $, $g(x) = 3 - x $\n",
        "\n",
        "Therefore \n",
        "\n",
        "$ f(x) g'(x) + f'(x)g(x) = -e^{-0.5 (x - 3)^2} + e^{-0.5 (x - 3)^2}(x^2 - 6x + 9) = e^{-0.5 (x - 3)^2}(x^2 - 6x + 8)$\n",
        "\n",
        "Evaluate the second derivative at the point $x = 3$:\n",
        "$ e^{-0.5 (3 - 3)^2}(3^2 - 6\\cdot3 + 8) = e^0 (9 - 18 + 8) = 1 \\cdot (-1) = -1$\n",
        "\n",
        "Therefore $x = 3$ is a local maximum (at the point (3, 1))\n",
        "\n",
        "\n",
        "\n"
      ]
    },
    {
      "cell_type": "markdown",
      "metadata": {
        "id": "kMYnjGN0Mllw"
      },
      "source": [
        "> Exercise 1D\n",
        "\n",
        "$f(x) = \\exp(-x^2) x = e^{-x^2} x $\n",
        "\n",
        "$f(x) = e^{-x^2} $, $f'(x) = -2xe^{-x^2}$\n",
        "\n",
        "$g(x) = x $, $g'(x) = 1$\n",
        "\n",
        "Putting it all together:\n",
        "\n",
        "$f(x) g'(x) + f'(x) g(x) = e^{-x^2} + -2x^2e^{-x^2} = e^{-x^2} (1 - 2x^2)$\n",
        "\n",
        "$ 1 - 2x^2 = 0 \\Rightarrow 2x^2 = 1 \\Rightarrow x^2 = \\frac{1}{2} \\Rightarrow x = \\pm \\frac{1}{\\sqrt{2}}$\n",
        "\n",
        "<br>\n",
        "\n",
        "Now the second derivative:\n",
        "\n",
        "$f(x) = e^{-x^2} $, $f'(x) = -2xe^{-x^2}$\n",
        "\n",
        "$g(x) = 1 - 2x^2 $, $g'(x) = -4x$ \n",
        "\n",
        "$f(x) g'(x) + f'(x) g(x) = (e^{-x^2})(-4x) + (-2xe^{-x^2})(1 - 2x^2) = e^{-x^2}(4x^3 - 6x)$\n",
        "\n",
        "<br>\n",
        "\n",
        "Evaluate the second derivative at the calculated points:\n",
        "\n",
        "$\\frac{\\text{d}^2 f(\\frac{1}{\\sqrt{2}})}{\\text{d} x^2} = e^{-(\\frac{1}{\\sqrt{2}})^2}(4 (\\frac{1}{\\sqrt{2}})^3 - 6 \\cdot \\frac{1}{\\sqrt{2}}) = e^{-\\frac{1}{2}} (\\frac{2 \\cdot 2}{2\\sqrt{2}} - \\frac{2 \\cdot 3}{\\sqrt{2}}) = e^{-\\frac{1}{2}} (\\frac{2 \\sqrt{2} \\cdot \\sqrt{2}}{2\\sqrt{2}} - \\frac{\\sqrt{2} \\cdot \\sqrt{2} \\cdot 3}{\\sqrt{2}}) = e^{-\\frac{1}{2}} (\\sqrt{2} - 3\\sqrt{2}) = e^{-\\frac{1}{2}} (-2\\sqrt{2}) $ \n",
        "\n",
        "(which is negative, therefore it is a maximum)\n",
        "\n",
        "$\\frac{\\text{d}^2 f(-\\frac{1}{\\sqrt{2}})}{\\text{d} x^2} = e^{-(-\\frac{1}{\\sqrt{2}})^2}(4 (-\\frac{1}{\\sqrt{2}})^3 - 6 \\cdot -\\frac{1}{\\sqrt{2}}) = e^{\\frac{1}{2}} (\\frac{2 \\cdot 2}{-2\\sqrt{2}} - \\frac{2 \\cdot 3}{-\\sqrt{2}}) = e^{\\frac{1}{2}} (\\frac{2 \\sqrt{2} \\cdot \\sqrt{2}}{-2\\sqrt{2}} + \\frac{\\sqrt{2} \\cdot \\sqrt{2} \\cdot 3}{\\sqrt{2}}) = e^{\\frac{1}{2}} (-\\sqrt{2} + 3\\sqrt{2}) = e^{\\frac{1}{2}} (2\\sqrt{2})$\n",
        "\n",
        "(which is positive, therefore it is a minimum)\n",
        "\n",
        "<br>\n",
        "\n",
        "Therefore we get the following extreme values for the function $f(x) = \\exp(-x^2) x = e^{-x^2} x $, a local maximum at point $(\\frac{1}{\\sqrt{2}}, e^{-\\frac{1}{2}} (-2\\sqrt{2}))$ and a local minimum at point $(-\\frac{1}{\\sqrt{2}},e^{\\frac{1}{2}} (2\\sqrt{2}))$.\n",
        "\n",
        "\n"
      ]
    },
    {
      "cell_type": "markdown",
      "metadata": {
        "id": "7UUOlKZHMllz"
      },
      "source": [
        "> Exercise 1E\n",
        "\n",
        "$f(x) = -(a - x b)^2 - 0.5 c x^2$ (where $a$, $b$ are numbers and $c$ is a positive number)\n",
        "\n",
        "$f'(x) = 2b(a - x b) -cx$\n",
        "\n",
        "$ 2b(a - x b) - cx = 0$\n",
        "\n",
        "$ 2ba - 2b^2x - cx = 0$\n",
        "\n",
        "$ 2b^2x + cx = 2ba $\n",
        "\n",
        "$ x(2b^2 + c) = 2ba $\n",
        "\n",
        "$ x = \\frac{2ba}{2b^2 + c} $\n",
        "\n",
        "<br>\n",
        "\n",
        "Second derivative:\n",
        "\n",
        "$f''(x) = -2b^2 - c$\n",
        "\n",
        "Evaluate with b = 2 and c = 5\n",
        "\n",
        "$f''(x) = -2 (2)^2 - 5 = -8 - 5 = -13$\n",
        "\n",
        "We cannot evaluate the function for x, since there is no x present. However you can see that both numbers have a minus in front of them and c is always. Therefore the result will always be negative no matter what numbers are chosen.\n",
        "\n",
        "\n"
      ]
    },
    {
      "cell_type": "markdown",
      "metadata": {
        "id": "mb07IhdjMll3"
      },
      "source": [
        "### Python exercises 1\n",
        "Validate all these results by plotting the functions using Python."
      ]
    },
    {
      "cell_type": "code",
      "metadata": {
        "id": "EZOKHeHYMll5",
        "outputId": "466a91fd-72cd-4b6b-e23d-675b0ae03dad",
        "colab": {
          "base_uri": "https://localhost:8080/",
          "height": 283
        }
      },
      "source": [
        "#Exercise 1A\n",
        "f = lambda x: x**3 - x**2 + 4\n",
        "x_range = np.linspace(-0.5,1.25,100)\n",
        "x1 = 0\n",
        "x2 = 2/3\n",
        "\n",
        "plt.plot(x_range, f(x_range))\n",
        "plt.axvline(x=x1, c=\"k\", ls=\"--\", label = \"x1\")\n",
        "plt.axvline(x=x2, c=\"r\", ls=\"--\", label = \"x2\")\n",
        "plt.legend(loc=\"best\")"
      ],
      "execution_count": null,
      "outputs": [
        {
          "output_type": "execute_result",
          "data": {
            "text/plain": [
              "<matplotlib.legend.Legend at 0x7fa8f23c74e0>"
            ]
          },
          "metadata": {
            "tags": []
          },
          "execution_count": 34
        },
        {
          "output_type": "display_data",
          "data": {
            "image/png": "[encoded data removed]",
            "text/plain": [
              "<Figure size 432x288 with 1 Axes>"
            ]
          },
          "metadata": {
            "tags": [],
            "needs_background": "light"
          }
        }
      ]
    },
    {
      "cell_type": "code",
      "metadata": {
        "id": "__wzYtpEMlmD",
        "outputId": "26907d25-2246-4629-ff07-fda8de157bbb",
        "colab": {
          "base_uri": "https://localhost:8080/",
          "height": 286
        }
      },
      "source": [
        "#Exercise 1B\n",
        "f = lambda x: np.exp(2*x) * (x**2 - x)\n",
        "x_range = np.linspace(-1.25,1.25,100)\n",
        "x1 = 1 / np.sqrt(2)\n",
        "x2 = -(1 / np.sqrt(2))\n",
        "\n",
        "plt.plot(x_range, f(x_range))\n",
        "plt.axvline(x=x1, c=\"k\", ls=\"--\", label = \"x1\")\n",
        "plt.axvline(x=x2, c=\"r\", ls=\"--\", label = \"x2\")\n",
        "plt.legend(loc=\"best\")"
      ],
      "execution_count": null,
      "outputs": [
        {
          "output_type": "execute_result",
          "data": {
            "text/plain": [
              "<matplotlib.legend.Legend at 0x7fa8f2702160>"
            ]
          },
          "metadata": {
            "tags": []
          },
          "execution_count": 27
        },
        {
          "output_type": "display_data",
          "data": {
            "image/png": "[encoded data removed]",
            "text/plain": [
              "<Figure size 432x288 with 1 Axes>"
            ]
          },
          "metadata": {
            "tags": [],
            "needs_background": "light"
          }
        }
      ]
    },
    {
      "cell_type": "code",
      "metadata": {
        "id": "I_ivD2i6MlmM",
        "outputId": "d3540ca5-e426-4a06-b758-316bd175dd4f",
        "colab": {
          "base_uri": "https://localhost:8080/",
          "height": 283
        }
      },
      "source": [
        "#Exercise 1C\n",
        "f = lambda x: np.exp(-0.5 * (x - 3)**2)\n",
        "x_range = np.linspace(-2,8,100)\n",
        "x1 = 3\n",
        "\n",
        "plt.plot(x_range, f(x_range))\n",
        "plt.axvline(x=x1, c=\"k\", ls=\"--\", label = \"x1\")\n",
        "plt.legend(loc=\"best\")"
      ],
      "execution_count": null,
      "outputs": [
        {
          "output_type": "execute_result",
          "data": {
            "text/plain": [
              "<matplotlib.legend.Legend at 0x7fa8f24fea90>"
            ]
          },
          "metadata": {
            "tags": []
          },
          "execution_count": 40
        },
        {
          "output_type": "display_data",
          "data": {
            "image/png": "[encoded data removed]",
            "text/plain": [
              "<Figure size 432x288 with 1 Axes>"
            ]
          },
          "metadata": {
            "tags": [],
            "needs_background": "light"
          }
        }
      ]
    },
    {
      "cell_type": "code",
      "metadata": {
        "id": "6aRl0YQCMlmU",
        "outputId": "28e4acbd-8811-4935-8a0b-9b81084499a6",
        "colab": {
          "base_uri": "https://localhost:8080/",
          "height": 283
        }
      },
      "source": [
        "#Exercise 1D\n",
        "f = lambda x: np.exp(-x**2) * x\n",
        "x_range = np.linspace(-1.5,1.5,100)\n",
        "x1 = 1 / np.sqrt(2)\n",
        "x2 = -(1 / np.sqrt(2))\n",
        "\n",
        "plt.plot(x_range, f(x_range))\n",
        "plt.axvline(x=x1, c=\"k\", ls=\"--\", label = \"x1\")\n",
        "plt.axvline(x=x2, c=\"r\", ls=\"--\", label = \"x2\")\n",
        "plt.legend(loc=\"best\")"
      ],
      "execution_count": null,
      "outputs": [
        {
          "output_type": "execute_result",
          "data": {
            "text/plain": [
              "<matplotlib.legend.Legend at 0x7fa8f1fc9588>"
            ]
          },
          "metadata": {
            "tags": []
          },
          "execution_count": 43
        },
        {
          "output_type": "display_data",
          "data": {
            "image/png": "[encoded data removed]",
            "text/plain": [
              "<Figure size 432x288 with 1 Axes>"
            ]
          },
          "metadata": {
            "tags": [],
            "needs_background": "light"
          }
        }
      ]
    },
    {
      "cell_type": "code",
      "metadata": {
        "id": "KZzkqz4XMlmZ",
        "outputId": "7e566176-76d5-42b0-a31d-358247c4fdb8",
        "colab": {
          "base_uri": "https://localhost:8080/",
          "height": 283
        }
      },
      "source": [
        "#Exercise 1E\n",
        "a = 1\n",
        "b = 0.5\n",
        "c = 0.70\n",
        "\n",
        "f = lambda x: -(a -x*b)**2 - 0.5 * c * x ** 2\n",
        "x_range = np.linspace(-1.5,1.5,100)\n",
        "x1 = 2*b*a/ 2*b**2 + c\n",
        "\n",
        "plt.plot(x_range, f(x_range))\n",
        "plt.axvline(x=x1, c=\"k\", ls=\"--\", label = \"x1\")\n",
        "plt.legend(loc=\"best\")"
      ],
      "execution_count": null,
      "outputs": [
        {
          "output_type": "execute_result",
          "data": {
            "text/plain": [
              "<matplotlib.legend.Legend at 0x7fa8e9faa828>"
            ]
          },
          "metadata": {
            "tags": []
          },
          "execution_count": 51
        },
        {
          "output_type": "display_data",
          "data": {
            "image/png": "[encoded data removed]",
            "text/plain": [
              "<Figure size 432x288 with 1 Axes>"
            ]
          },
          "metadata": {
            "tags": [],
            "needs_background": "light"
          }
        }
      ]
    },
    {
      "cell_type": "markdown",
      "metadata": {
        "id": "5y3OyftYgYou"
      },
      "source": [
        "## Steepest descent (Also known as gradient descent)\n",
        "Very often you cannot solve the equation is Step II exactly. In this case, we can use a numerical method to find an approximate solution. The simplest of these methods is the steepest descent method.\n",
        "The idea is to start at an arbitrary point, then to compute the derivative and \"make a step\" in the direction of the derivative if we want to find a maximum and against the direction of the derivitive if we want to find a minimum. We can write this in formulas as follows:\n",
        "\n",
        "$$\n",
        "x_{n+1} = x_n - \\eta \\frac{\\text{d} f(x_n)}{\\text{d}x}\n",
        "$$\n",
        "\n",
        "where $\\eta$ is a small positive number (or a small negative number if we want to find a local maximum). Since the derivative is zero in a local minimum (and maximum), these points are the fixed points of the steepest descent update. It is easy to see that this update rule will move you towards one of these fixed points as far as the learning rate $\\eta$ is small enough.\n",
        "\n",
        "### Solved exercise 2\n",
        "Find the steepest descent update rule for the following function:\n",
        "\n",
        "$$\n",
        "f(x) = e^{\\sum_{k=-2}^{10} k \\sin(k^2 x)}\n",
        "$$\n",
        "\n",
        "#### Solution\n",
        "The derivative of this function is\n",
        "\n",
        "$$\n",
        "\\frac{\\text{d} f}{\\text{d} x} = e^{\\sum_{k=-2}^{10} k \\sin(k^2 x)} \\sum_{k=-2}^{10} k^3 \\cos(k^2 x)\n",
        "$$\n",
        "\n",
        "therefore, the update rule is\n",
        "\n",
        "$$\n",
        "x_{n+1} = x_n - \\eta e^{\\sum_{k=-2}^{10} k \\sin(k^2 x_n)} \\sum_{k=-2}^{10} k^3 \\cos(k^2 x_n)\n",
        "$$\n",
        "\n",
        "### Exercises 2\n",
        "Find the steepest descent update rule for the following functions:\n",
        "- $f(x) = \\exp(-x^2 + x^3) \\left( x^4 - x^3 + 5x +6 \\right)$\n",
        "- $f(x) = \\sum_{k = 1}^5 e^{-(x - k)^2}$\n",
        "- $f(x) = \\exp(\\sum_{k = 1}^{-5} e^{-(x - k)^2} \\cos(k x)) $"
      ]
    },
    {
      "cell_type": "markdown",
      "metadata": {
        "id": "A1oG2MpOMlmy"
      },
      "source": [
        "> Exercise 2A\n",
        "\n",
        "$f_1(x) = \\exp(-x^2 + x^3) \\left( x^4 - x^3 + 5x +6 \\right)$\n",
        "\n",
        "Let $f_2(x) = e^{-x^2 + x^3} $, then $f_2'(x) = e^{-x^2 + x^3} (-2x + 3x^2)$\n",
        "\n",
        "Let $g(x) =  x^4 - x^3 + 5x +6 $, then $g'(x) = 4x^3 - 3x^2 + 5$\n",
        "\n",
        "<br>\n",
        "\n",
        "$ f_1'(x) = f_2(x) g'(x) + f_2'(x) g(x) = e^{-x^2 + x^3} (4x^3 - 3x^2 + 5) + e^{-x^2 + x^3} (-2x + 3x^2) (x^4 - x^3 + 5x +6) = e^{-x^2 + x^3} (4x^3 - 3x^2 + 5) + e^{-x^2 + x^3} (3x^6 - 5x^5 +2x^4 + 15x^3 + 8x^2 - 12x) = e^{-x^2 + x^3} (3x^6 - 5x^5 + 2x^4 + 19x^3 + 5x^2 - 12x + 5)$\n",
        "\n",
        "<br>\n",
        "\n",
        "Therefore the update rule is:\n",
        "\n",
        "$x_{n+1} = x_n - \\eta e^{-x_n^2 + x_n^3} (3x_n^6 - 5x_n^5 + 2x_n^4 + 19x_n^3 + 5x_n^2 - 12x_n + 5)$"
      ]
    },
    {
      "cell_type": "markdown",
      "metadata": {
        "id": "Tv9SlNstMlmz"
      },
      "source": [
        "> Exercise 2B\n",
        "\n",
        "$f(x) = \\sum_{k = 1}^5 e^{-(x - k)^2}$\n",
        "\n",
        "$ \\frac{df}{dx}[\\sum_{k = 1}^5 e^{-(x - k)^2}] = \\sum_{k = 1}^5 \\frac{df}{dx}[e^{-(x - k)^2}] = \\sum_{k = 1}^5 -2(x - k) e^{-(x - k)^2}$\n",
        "\n",
        "Therefore the update rule is:\n",
        "\n",
        "$x_{n+1} = x_n - \\eta \\sum_{k = 1}^5 -2(x_n - k) e^{-(x_n - k)^2} $\n",
        "\n"
      ]
    },
    {
      "cell_type": "markdown",
      "metadata": {
        "id": "773t70TOMlm1"
      },
      "source": [
        "> Exercise 2C\n",
        "\n",
        "$f(x) = e^{\\sum_{k = 1}^{-5} e^{-(x - k)^2} \\cos(k x)}$\n",
        "\n",
        "$f(y(x)) = e^y $, $f'(y(x)) = e^y$\n",
        "\n",
        "$\\frac{dy}{dx}[\\sum_{k = 1}^{-5} e^{-(x - k)^2} \\cos(k x)] = \\sum_{k = 1}^{-5} \\frac{dy}{dx}[e^{-(x - k)^2} \\cos(k x)]$\n",
        "\n",
        "<br>\n",
        "\n",
        "Let $g(x) = e^{-(x - k)^2}$, therefore: $g'(x) = -2(x - k) e^{-(x - k)^2}$\n",
        "\n",
        "Let $h(x) = \\cos(k x) $, therefore: $h'(x) = -\\sin(k x)$\n",
        "\n",
        "$ \\frac{dy}{dx}[e^{-(x - k)^2} \\cos(k x)] = g(x) h'(x) + g'(x) h(x) = -\\sin(k x) e^{-(x - k)^2} + -2(x - k) e^{-(x - k)^2} (\\cos(k x)) = e^{-(x - k)^2} (-2x\\cos(kx) + 2k\\cos(kx) - sin(kx)) = -e^{-(x - k)^2} (2x\\cos(kx) - 2k\\cos(kx) + sin(kx))$\n",
        "\n",
        "<br>\n",
        "\n",
        "Thus: \n",
        "\n",
        "$\\sum_{k = 1}^{-5} \\frac{dy}{dx}[e^{-(x - k)^2} \\cos(k x)] = \\sum_{k = 1}^{-5} -e^{-(x - k)^2} (2x\\cos(kx) - 2k\\cos(kx) + sin(kx))$\n",
        "\n",
        "<br>\n",
        "\n",
        "Therefore the update rule is:\n",
        "\n",
        "$x_{n+1} = x_n - \\eta \\sum_{k = 1}^{-5} -e^{-(x_n - k)^2} (2x_n\\cos(kx_n) - 2k\\cos(kx_n) + sin(kx_n))$\n",
        "\n",
        "\n",
        "\n"
      ]
    }
  ]
}