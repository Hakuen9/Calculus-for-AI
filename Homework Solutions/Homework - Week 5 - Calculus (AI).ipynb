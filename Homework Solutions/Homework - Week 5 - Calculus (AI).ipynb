{
  "nbformat": 4,
  "nbformat_minor": 0,
  "metadata": {
    "colab": {
      "name": "Homework  - Week 5 - Calculus (AI)",
      "provenance": [],
      "collapsed_sections": []
    },
    "kernelspec": {
      "name": "python3",
      "display_name": "Python 3"
    }
  },
  "cells": [
    {
      "cell_type": "markdown",
      "metadata": {
        "id": "c-V-Nk1oEdOX"
      },
      "source": [
        "# Practical 5 \n",
        "\n",
        "## Integrals"
      ]
    },
    {
      "cell_type": "markdown",
      "metadata": {
        "id": "2HydqSz2EraA"
      },
      "source": [
        "In this workgroup we will learn how to solve integrals both analytically using math formulas and numerically using Python. \n",
        "\n",
        "The integral of a function $f(x)$ is definied as the limit of the total areas of a set of rectangles that have base length equal to $\\Delta x = x_{n-1} - x_n$ and height equal to the value of the function at $f(x_n)$. We can write this definition as follows: \n",
        "$$\n",
        "\\int_a^b f(x) \\text{d}x = \\lim_{N \\rightarrow \\infty} \\sum_{n=0}^{N-1} \\Delta x f(x_n) = \\lim_{N \\rightarrow \\infty} \\sum_{n=0}^{N-1} \\left(\\frac{b - a}{N}\\right)  f\\!\\left(a + n \\frac{b - a}{N} \\right)\n",
        "$$\n",
        "where $x_n = a + n \\Delta x$ and $\\Delta x = x_{n+1} - x_n = (b - a)/N$\n"
      ]
    },
    {
      "cell_type": "markdown",
      "metadata": {
        "id": "ki5BNNBrFmOE"
      },
      "source": [
        "![image001.png](data:image/png;base64,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)"
      ]
    },
    {
      "cell_type": "markdown",
      "metadata": {
        "id": "a-YWXMxLIcO5"
      },
      "source": [
        "## Solved exercise 1\n",
        "Use the definition of integral to compute the integral of $x$ from $0$ to $1$.\n",
        "\n",
        "### Solution\n",
        "We start by writing down the definition:\n",
        "$$\n",
        "\\int_0^1 x \\text{d}x = \\lim_{N \\rightarrow \\infty} \\sum_{n=0}^{N-1} \\left(\\frac{1 - 0}{N}\\right) {\\!\\left(0 + n \\frac{1 - 0}{N} \\right)} \n",
        "$$\n",
        "Using the distributive rule of multiplication (ca + cb = c(a + b)), we can now move out of the sum everything that does not depend on the index $n$:\n",
        "$$\n",
        "\\lim_{N \\rightarrow \\infty} \\sum_{n=0}^{N-1} \\left(\\frac{1}{N}\\right) {\\!\\left(n \\frac{1}{N} \\right)} = \\lim_{N \\rightarrow \\infty} \\frac{1}{N^2} \\sum_{n=0}^{N-1}  n\n",
        "$$\n",
        "In order to compute the limit, we need to study how the cumulative sum: \n",
        "$$\n",
        "S_1(n) = \\sum_{n=0}^{N-1} n = 0 + 1 + 2 + \\dots + (N-2) + (N-1)\n",
        "$$ \n",
        "behaves for $N$ tending to infinity. First of all, notice that the sum $S_1(N)$ is equal to the reversed sum $S_r(n)$:\n",
        "$$\n",
        "S_1(n) = S_r(n) = (N-1) + (N-2) + \\dots + 2 + 1 + 0\n",
        "$$ \n",
        "Therefore:\n",
        "$$\n",
        "2 S_1(N) = S_1(N) + S_r(N)~.\n",
        "$$\n",
        "We can now sum these two sequences elementwise:\n",
        "$$\n",
        "S_1(N) + S_r(N) = (0 + N) + (1 + N - 1) + \\dots + (N-1 + 1) + (N + 0)\n",
        "$$\n",
        "$$\n",
        "= N \\times N~.\n",
        "$$\n",
        "We can therefore conclude that:\n",
        "$$\n",
        "2 S_1(N) = N^2\n",
        "$$\n",
        "and\n",
        "$$\n",
        "S_1(N) = \\frac{N^2}{2}~.\n",
        "$$\n",
        "\n",
        "We can now use this formula to compute the limit in the definition of integral:\n",
        "\n",
        "$$\n",
        "\\int_0^1 x \\text{d}x = \\lim_{N \\rightarrow \\infty} \\frac{1}{N^2} \\sum_{n=1}^N  n = \\lim_{N \\rightarrow \\infty} \\frac{S_1(n)}{N^2}  = \\lim_{N \\rightarrow \\infty} \\frac{N^2}{2 N^2} = \\frac{1}{2}~.\n",
        "$$\n",
        "\n",
        "As you can see, it takes a lot of work to compute integrals of even the simplest functions using the definition alone. We will therefore introduce a very powerful technique based on differentials and the foundamental theorem of calculus."
      ]
    },
    {
      "cell_type": "markdown",
      "metadata": {
        "id": "Rua6l9kva7Lv"
      },
      "source": [
        "## Python exercise 1\n",
        "\n",
        "Integrals can be easily approximated  numerically using a language like Python. You simply need to evaliate the sum in the definition for a finite value of $N$ (number of approximating rectangles).\n",
        "\n",
        "### Part 1 (Solved)\n",
        "Write a Python program to approximate the following integral using 20 rectangles.\n",
        "\n",
        "$$\n",
        "\\int_0^1 \\cos(x)^2 \\text{d} x\n",
        "$$\n",
        "\n",
        "### Solution\n",
        "We start by defining all the relevant variables and function:"
      ]
    },
    {
      "cell_type": "code",
      "metadata": {
        "id": "hgQMcYvfEaY1"
      },
      "source": [
        "import numpy as np\n",
        "\n",
        "N = 20 #Number of rectangles\n",
        "a = 0 # Lower bound\n",
        "b = 1 # Upper bound\n",
        "f = lambda x: np.cos(x)**2 #Function to integrate\n",
        "dx = (b - a)/N # The base of each rectangle is equal to the total imntegration range divided by the number of rectangles.\n",
        "x_range = np.linspace(0,1,N) #Initial x coordinate x_n of each rectangle"
      ],
      "execution_count": null,
      "outputs": []
    },
    {
      "cell_type": "markdown",
      "metadata": {
        "id": "DlI-luMiczPQ"
      },
      "source": [
        "We can now write the code for approximating the integral. We just need to sum all the areas of the rectangles with base $dx$ and height $f(x_n)$."
      ]
    },
    {
      "cell_type": "code",
      "metadata": {
        "id": "7ZErzGLudUhL",
        "outputId": "2e7deef8-5f34-45b4-a1d4-06e4ce369117",
        "colab": {
          "base_uri": "https://localhost:8080/",
          "height": 34
        }
      },
      "source": [
        "result = sum([dx*f(x) for x in x_range])\n",
        "print(\"The approximate value of the integral is: {}\".format(result))"
      ],
      "execution_count": null,
      "outputs": [
        {
          "output_type": "stream",
          "text": [
            "The approximate value of the integral is: 0.7230568592491065\n"
          ],
          "name": "stdout"
        }
      ]
    },
    {
      "cell_type": "markdown",
      "metadata": {
        "id": "sfAdv4T_d-YI"
      },
      "source": [
        "### Part 2\n",
        "You can now use this code to see how the approximation improves as we increase the number of rectangles. Plot the resulting approximation for as a function of the number N of rectangles from 20 to 30. \n",
        "\n",
        "The correct number value is 0.72732...\n",
        "\n",
        "The bigger the N, the closer the approximate value of the integral should get to the correct number value."
      ]
    },
    {
      "cell_type": "code",
      "metadata": {
        "id": "rLiRq0scdFDi"
      },
      "source": [
        "#Exercise 1.2\n",
        "\n",
        "# Define a general function (totally not me being lazy or smth)\n",
        "def calculate_integral(N, a, b, f):\n",
        "  \"\"\"This method calculates the integral by taking the sum of an N number of \n",
        "     squares from a to b using function f\n",
        "\n",
        "     Parameters\n",
        "     ----------\n",
        "     N: integer\n",
        "        Number of squares under the curve.\n",
        "     \n",
        "     a: integer\n",
        "        Lower bound of the integral.\n",
        "     \n",
        "     b: integer\n",
        "        Upper bound of the integral.\n",
        "     \n",
        "     f: lambda function\n",
        "        Function which the integral will be calculated on.\n",
        "     ----------\n",
        "  \"\"\"\n",
        "  dx = (b - a)/N \n",
        "  x_range = np.linspace(0,1,N) \n",
        "  result = sum([dx*f(x) for x in x_range])\n",
        "  print(\"The approximate value of the integral is: {}\".format(result))"
      ],
      "execution_count": null,
      "outputs": []
    },
    {
      "cell_type": "code",
      "metadata": {
        "id": "4KbX0FwIfK1X",
        "outputId": "87a7d714-1dcf-4a42-c28b-ece9f46c933e",
        "colab": {
          "base_uri": "https://localhost:8080/",
          "height": 54
        }
      },
      "source": [
        "#Exercise 1.2\n",
        "f = lambda x: np.cos(x)**2\n",
        "calculate_integral(30, 0, 1, f)\n",
        "calculate_integral(50000, 0, 1, f)"
      ],
      "execution_count": null,
      "outputs": [
        {
          "output_type": "stream",
          "text": [
            "The approximate value of the integral is: 0.7245252168185778\n",
            "The approximate value of the integral is: 0.7273227294547905\n"
          ],
          "name": "stdout"
        }
      ]
    },
    {
      "cell_type": "markdown",
      "metadata": {
        "id": "_KXMYOlMe9Xr"
      },
      "source": [
        "### Part 3\n",
        "Use Python to approximate the integrals of the following functions from 0 to 1 using 20 rectangles.\n",
        "\n",
        "- $f(x) = x + x^2$\n",
        "- $f(x) = \\cos(x) e^x$\n",
        "- $f(x) = \\sin(x)^3 + 4x^2$\n"
      ]
    },
    {
      "cell_type": "code",
      "metadata": {
        "id": "Ywa_LTM2Z080",
        "outputId": "7f1fc689-e5d0-4137-df68-add4df544012",
        "colab": {
          "base_uri": "https://localhost:8080/",
          "height": 35
        }
      },
      "source": [
        "#Exercise 1.3A\n",
        "f = lambda x: x + x**2\n",
        "calculate_integral(20, 0, 1, f)"
      ],
      "execution_count": null,
      "outputs": [
        {
          "output_type": "stream",
          "text": [
            "The approximate value of the integral is: 0.8421052631578947\n"
          ],
          "name": "stdout"
        }
      ]
    },
    {
      "cell_type": "code",
      "metadata": {
        "id": "H-A4bA9YZ1Qg",
        "outputId": "31f5ffa7-fca0-47dc-daf9-dc541f2cb09a",
        "colab": {
          "base_uri": "https://localhost:8080/",
          "height": 35
        }
      },
      "source": [
        "#Exercise 1.3B\n",
        "f = lambda x: np.cos(x) * np.exp(x)\n",
        "calculate_integral(20, 0, 1, f)"
      ],
      "execution_count": null,
      "outputs": [
        {
          "output_type": "stream",
          "text": [
            "The approximate value of the integral is: 1.3704419579375704\n"
          ],
          "name": "stdout"
        }
      ]
    },
    {
      "cell_type": "code",
      "metadata": {
        "id": "bXdBTnflZ0kz",
        "outputId": "deca7d72-1810-4914-af76-e9900c2237aa",
        "colab": {
          "base_uri": "https://localhost:8080/",
          "height": 35
        }
      },
      "source": [
        "#Exercise 1.3C\n",
        "f = lambda x: np.sin(x)**3 + 4 * x **2\n",
        "calculate_integral(20, 0, 1, f)"
      ],
      "execution_count": null,
      "outputs": [
        {
          "output_type": "stream",
          "text": [
            "The approximate value of the integral is: 1.5535619937795337\n"
          ],
          "name": "stdout"
        }
      ]
    },
    {
      "cell_type": "markdown",
      "metadata": {
        "id": "u_fYP4vFfiMP"
      },
      "source": [
        "## Differentials\n",
        "Differentials are mathematical objects that represent infinitesimally small variations in the values of a function. \n",
        "Differentials follow the following properties:\n",
        "\n",
        "#### Additivity\n",
        "$$\n",
        "\\text{d}(f(x) + g(x)) = \\text{d}f(x) + \\text{d}g(x)\n",
        "$$\n",
        "\n",
        "#### Product rule\n",
        "$$\n",
        "\\text{d}(f(x) g(x)) = g(x) \\text{d}f(x) + f(x) \\text{d}g(x)\n",
        "$$\n",
        "\n",
        "#### Chain rule\n",
        "Given two functions $u(x)$ and $f(u)$ and their composition:\n",
        "$$\n",
        "\\text{d}f(u(x)) = \\frac{\\text{d}f(u(x))}{\\text{d} u(x)}du(x)\n",
        "$$\n",
        "where $\\frac{\\text{d}f(u(x))}{\\text{d} u(x)}$ is simply the derivative $f'(u)$ evaluated at $u = u(x)$. Using this rule with $u(x) = x$, we obtain one of the most important formulas of the course:\n",
        "\n",
        "$$\n",
        "\\text{d} f(x) = \\frac{\\text{d} f(x)}{\\text{d} x} dx\n",
        "$$\n",
        "\n",
        "## Solved exercise 2\n",
        "Compute the differentials of the following function:\n",
        "\n",
        "$f(x) = \\log{(x)}$\n",
        "\n",
        "### Solution\n",
        "the derivative of $\\log(x)$ is $1/|x|$. Therefore, using the formulawe can write:\n",
        "$$\n",
        "\\text{d}f(x) = \\text{d}\\log(x) = \\frac{1}{|x|} dx\n",
        "$$ \n",
        "\n",
        "## Exercises 2\n",
        "Compute the following differentials:\n",
        "- $f(x) = \\frac{1}{1 + x^2}$\n",
        "- $f(x) = 5x^3 + \\sin(x)$\n",
        "- $f(x) = e^{x^2}$\n",
        "\n",
        "### Solutions\n",
        "- $\\text{d}\\left(\\frac{1}{1 + x^2}\\right) = -\\frac{2 x}{(1 + x^2)^2} \\text{d} x$\n",
        "- $\\text{d}\\left(5x^3 + \\sin(x)\\right) = 15 x^2 \\text{d} x + \\cos(x) \\text{d} x$\n",
        "- $\\text{d} e^{x^2} = 2 x e^{x^2} \\text{d}x$"
      ]
    },
    {
      "cell_type": "markdown",
      "metadata": {
        "id": "wdwROO_uaAno"
      },
      "source": [
        ">Exercise 2A\n",
        "\n",
        "$f(x) = \\frac{1}{1+x^2}$\n",
        "\n",
        "$ \\text{d} (\\frac{1}{1+x^2}) = \\text{d} ((1+x^2)^-1) = \\frac{d(1+x^2)^{-1}}{dx} \\cdot dx = ((-(1 + x^2)^{-2} 2x) dx) = - \\frac{2x}{(1 + x^2)^2} dx$"
      ]
    },
    {
      "cell_type": "markdown",
      "metadata": {
        "id": "aMHvUacGaE6B"
      },
      "source": [
        ">Exercise 2B\n",
        "\n",
        "$f(x) = 5x^3 + \\sin(x)$\n",
        "\n",
        "$\\text{d} (5x^3 + \\sin(x)) = \\frac{d5x^3 + \\sin(x)}{dx} \\cdot dx = 15x^2dx + cos(x) dx$"
      ]
    },
    {
      "cell_type": "markdown",
      "metadata": {
        "id": "cjrJEWM8aFTb"
      },
      "source": [
        ">Exercise 2C\n",
        "\n",
        "$f(x) = e^{x^2}$\n",
        "\n",
        "$\\text{d} (e^{x^2}) = \\frac{d e^{x^2}}{dx} \\cdot dx = 2xe^{x^2} dx$"
      ]
    },
    {
      "cell_type": "markdown",
      "metadata": {
        "id": "yalrgHh5lgPx"
      },
      "source": [
        "## Integrals with respect to differentials\n",
        "\n",
        "Differentials are objects that can be integrated. The regular integrals that we discussed above are taken with respect to the differential $\\text{d} x$ of the identity function (f(x) = x). In general, the integral of a function $f(x)$ with respect to the differential $\\text{d} g(x)$ is defined as follows:\n",
        "\n",
        "\\begin{align}\n",
        "\\int_a^b f(x) \\text{d} g(x) &= \\lim_{N \\rightarrow \\infty} \\sum_{n=0}^{N-1} f(x_n) \\left( g(x_{n+1}) - g(x_n) \\right) \\\\\n",
        "&= \\lim_{N \\rightarrow \\infty} \\sum_{n=0}^{N-1} f(x_n) \\left( g(x_{n} + \\Delta x) - g(x_n) \\right)\\\\\n",
        "&= \\lim_{N \\rightarrow \\infty} \\sum_{n=0}^{N-1} f(x_n) \\Delta g(x_n)\n",
        "\\end{align}\n",
        "\n",
        "In this formula, you can see that the differential $\\text{d} g(x)$ is an \"infinitesimal generator\" of the finite differences $\\Delta g(x_n) = g(x_n + \\Delta x) - g(g_n)$.\n",
        "\n",
        "## Python exercise 2\n",
        "Use python to approximate the following integrals with respect to differentials using $N = 20$.\n",
        "\n",
        "$$\n",
        "\\int_a^b x^2 \\text{d}\\sin(x)\n",
        "$$\n",
        "\n",
        "hint: You need to modify the code used for approximating regular integrals. Specificly, you need to replace $dx$ with $\\Delta g(x_n)$."
      ]
    },
    {
      "cell_type": "code",
      "metadata": {
        "id": "FFQ95690hb6N",
        "outputId": "b426b857-49a5-4437-84dc-3892f2c0b184",
        "colab": {
          "base_uri": "https://localhost:8080/",
          "height": 35
        }
      },
      "source": [
        "# Python exercise 2\n",
        "f = lambda x: x ** 2\n",
        "N, a, b = 20, 0, 1\n",
        "\n",
        "dx = (np.sin(b) - np.sin(a))/N \n",
        "x_range = np.linspace(0,1,N) \n",
        "result = sum([dx*f(x) for x in x_range])\n",
        "print(\"The approximate value of the integral is: {}\".format(result))"
      ],
      "execution_count": null,
      "outputs": [
        {
          "output_type": "stream",
          "text": [
            "The approximate value of the integral is: 0.28787165269743825\n"
          ],
          "name": "stdout"
        }
      ]
    },
    {
      "cell_type": "markdown",
      "metadata": {
        "id": "R2iXuuJSvHBA"
      },
      "source": [
        "## Exercise 3\n",
        "You can use the formula $\\text{d} f(x) = \\text{d} x$ to convert integrals with respect to differentials into regular integrals. For example:\n",
        "\n",
        "$$\n",
        "\\int_a^b x \\text{d}\\sin(x) = \\int_a^b x \\frac{\\text{d} \\sin(x)}{\\text{d}x} \\text{d}x = \\int_a^b x \\cos(x) \\text{d} x~.\n",
        "$$\n",
        "\n",
        "Convert the following integrals with respect to differentials into regular integrals:\n",
        "\n",
        "- $\\int_0^1 \\cos(x) \\text{d} x^4$\n",
        "\n",
        "- $\\int_{-1}^1 e^x \\text{d} e^x$\n",
        "\n",
        "- $\\int_0^1 x^2 \\text{d} \\left(1 + 2x^2 - x^4 \\right)$\n",
        "\n",
        "### Solutions\n",
        "- $4 \\int_0^1 \\cos(x) x^3 \\text{d} x$\n",
        "- $\\int_{-1}^1 e^{2x} \\text{d}x$\n",
        "- $\\int_0^1 \\left(4 x^3 - 4 x^5 \\right) \\text{d}x$"
      ]
    },
    {
      "cell_type": "markdown",
      "metadata": {
        "id": "4UyHmtGHaKl3"
      },
      "source": [
        ">Exercise 3A\n",
        "\n",
        "$\\int_0^1 \\cos(x) \\text{d} x^4 = \\int_0^1 \\cos(x) \\frac{dx^4}{dx} dx = \\int_0^1 \\cos(x) 4x^3 dx = 4 \\int_0^1 \\cos(x) x^3 dx $"
      ]
    },
    {
      "cell_type": "markdown",
      "metadata": {
        "id": "SdrrfQEPaLE-"
      },
      "source": [
        ">Exercise 3B\n",
        "\n",
        "$\\int_{-1}^1 e^x \\text{d} e^x = \\int_{-1}^1 e^x \\frac{d e^x}{dx} dx = \\int_{-1}^1 e^x e^x dx = \\int_{-1}^1 e^{2x} dx $"
      ]
    },
    {
      "cell_type": "markdown",
      "metadata": {
        "id": "61-7c7RkaMAQ"
      },
      "source": [
        ">Exercise 3C\n",
        "\n",
        "$\\int_0^1 x^2 \\text{d} \\left(1 + 2x^2 - x^4 \\right) = \\int_0^1 x^2 \\frac{d (1 + 2x^2 - x^4) }{dx} dx = \\int_0^1 x^2 (4x - 4x^3) dx = \\int_0^1 (4x^3 - 4x^5) dx$"
      ]
    },
    {
      "cell_type": "markdown",
      "metadata": {
        "id": "od3mPAG6o9aV"
      },
      "source": [
        "## Foundamental theorem of calculus\n",
        "\n",
        "As we saw in the beginning of this practical, solving integrals using the definition is extremely hard. We will now introduce the most important tool for solving integrals: the foundamental theorem of calculus!\n",
        "\n",
        "We can start by proving the following formula:\n",
        "$$\n",
        "\\int_a^b \\text{d} f(x) = f(b) - f(a)\n",
        "$$\n",
        "This is quite easy since most of the terms in the sum cancel out exactly:\n",
        "\\begin{align}\n",
        "\\int_a^b \\text{d} f(x) &= \\lim_{N \\rightarrow \\infty} \\sum_{n=0}^{N-1} \\left(f(x_n + \\Delta x) - f(x_n)\\right) \\\\\n",
        "&= \\lim_{N \\rightarrow \\infty} \\left(\\sum_{n=0}^{N-1} f(x_n + \\Delta x) - \\sum_{n=0}^{N-1} f(x_n) \\right)\\\\\n",
        "&= \\lim_{N \\rightarrow \\infty} \\left(\\sum_{n=1}^{N-1} f(x_{n+1}) - \\sum_{n=1}^N f(x_n) \\right)\\\\\n",
        "&= \\lim_{N \\rightarrow \\infty} \\left(\\sum_{n=1}^{N} f(x_{n}) - \\sum_{n=0}^{N-1} f(x_n) \\right)\\\\\n",
        "&= \\lim_{N \\rightarrow \\infty} \\left(f(b) + \\left(\\sum_{n=1}^{N-1} f(x_{n}) - \\sum_{n=1}^{N-1} f(x_n) \\right) - f(a) \\right)\\\\\n",
        "&= f(b) - f(a)\n",
        "\\end{align}\n",
        "\n",
        "We can now use this result together with the formula $\\text{d}F(x) = \\frac{\\text{d}F(x)}{\\text{d}x} \\text{d} x$:\n",
        "$$\n",
        "\\int_a^b \\frac{\\text{d} F(x)}{\\text{d} x} \\text{d}x = F(b) - F(a)\n",
        "$$ \n",
        "This result is known as the foundamental theorem of caclulus and its importance can hardly be overstated. Using this theorem, we can solve a large class of integrals by finding anti-derivatives.\n",
        "\n",
        "## Solved exercise 3\n",
        "use the foundamental theorem of caclulus to compute the following integral:\n",
        "\n",
        "$$\n",
        "\\int_{1}^{3} 2 x^3 \\text{d}x\n",
        "$$\n",
        "\n",
        "### Solution\n",
        "We need to find a function $F(x)$ such that $\\frac{\\text{d}F(x)}{\\text{d} x} = 2 x^3$ (i.e. an anti-derivative).\n",
        "\n",
        "We know that the derivitive of the power function $x^k$ is $k x^{k-1}$. Therefore, it is easy to see that an anti-derivative of a power function $x^p$ is\n",
        "$$\n",
        "F(x) = \\frac{1}{p+1}x^{p+1}~.\n",
        "$$\n",
        "In fact:\n",
        "$$\n",
        "\\frac{\\text{d}F(x)}{\\text{d} x} = \\frac{1}{p+1} \\frac{\\text{d}x^{p+1}}{\\text{d} x} = \\frac{p+1}{p+1} x^p = x^p~.\n",
        "$$\n",
        "In our case, we can use this formula to find the anti-derivative:\n",
        "$$\n",
        "F(x) = \\frac{2}{4} x^4~.\n",
        "$$\n",
        "Therefore:\n",
        "$$\n",
        "\\int_{1}^{3} 2 x^3 \\text{d}x = \\int_{1}^{3} \\text{d}\\left( \\frac{2}{4} x^4 \\right) = \\frac{2}{4} 3^4 - \\frac{2}{4} 1^4 = \\frac{1}{2}(3^4-1)\n",
        "$$\n",
        "\n",
        "## Exercises 4\n",
        "Solve the following integrals using the foundamental theorem:\n",
        "\n",
        "- $\\int_0^1 5 x^5 \\text{d}x$\n",
        "- $\\int_0^1 (4 + 3x - 4x^7) \\text{d}x$\n",
        "- $ \\int_{-1}^{1} (3e^x + 4x^4) \\text{d} x$\n",
        "- $ \\int_{-\\pi/2}^{\\pi/2} (\\cos(x) + 3x) \\text{d} x$\n",
        "- $ \\int_0^2 x^3 \\text{d} x^2 $\n",
        "- $ \\int_1^2 \\frac{1}{x} \\text{d} x$\n",
        "- $ \\int_1^2 \\frac{1}{x^2} \\text{d} x$\n",
        "- $ \\int_1^3 \\frac{x + 2}{x^2} \\text{d} x$\n",
        "\n",
        "### Solutions\n",
        "- $\\frac{5}{6}$\n",
        "- $ 5 $\n",
        "- $ 3 (e - e^{-1}) + \\frac{8}{5}$\n",
        "- $ 2 $\n",
        "- $ \\frac{2^6}{5} $\n",
        "- $ \\log(2) $\n",
        "- $ 1/2 $\n",
        "- $ 4/3 + \\log(3) $\n",
        "\n",
        "\n"
      ]
    },
    {
      "cell_type": "markdown",
      "metadata": {
        "id": "UkexcoI3atmr"
      },
      "source": [
        "> Exercise 4A\n",
        "\n",
        "$\\int_0^1 5 x^5 \\text{d}x = \\int_0^1 d(\\frac{5 x^6}{6}) = F(1) - F(0) = \\frac{5 (1^6)}{6} - \\frac{5 (0^6)}{6} = \\frac{5}{6} - 0 = \\frac{5}{6}$"
      ]
    },
    {
      "cell_type": "markdown",
      "metadata": {
        "id": "GrF6WZFsazdI"
      },
      "source": [
        "> Exercise 4B\n",
        "\n",
        "$\\int_0^1 (4 + 3x - 4x^7) \\text{d}x = \\int_0^1 d(4x + \\frac{3x^2}{2} - \\frac{4x^8}{8}) = F(1) - F(0) = (4 \\cdot 1 + \\frac{3(1^2)}{2} - \\frac{4(1^8)}{8}) - (4 \\cdot 0 + \\frac{3(0^2)}{2} - \\frac{4(0^8)}{8}) = (4 + \\frac{3}{2} - \\frac{1}{2}) - 0 = 5$\n"
      ]
    },
    {
      "cell_type": "markdown",
      "metadata": {
        "id": "cPEfun5Ya3Po"
      },
      "source": [
        "> Exercise 4C\n",
        "\n",
        "$ \\int_{-1}^{1} (3e^x + 4x^4) \\text{d} x = \\int_{-1}^{1} d(3e^x + \\frac{4x^5}{5}) = F(1) - F(0) = (3e^1 + \\frac{4(1^5)}{5}) - (3e^{-1} + \\frac{4((-1)^5)}{5}) = (3e + \\frac{4}{5}) - (3e^{-1} - \\frac{4}{5}) = 3e - 3e^{-1} + \\frac{8}{5} + \\frac{4}{5} = 3(e - e^{-1}) + \\frac{8}{5}$\n"
      ]
    },
    {
      "cell_type": "markdown",
      "metadata": {
        "id": "gW2a6KGDa4Mf"
      },
      "source": [
        "> Exercise 4D\n",
        "\n",
        "$ \\int_{-\\pi/2}^{\\pi/2} (\\cos(x) + 3x) \\text{d} x = \\int_{-\\pi/2}^{\\pi/2} d(\\sin(x) + \\frac{3x^2}{2}) = F(\\pi/2) - F(-\\pi/2) = (\\sin(\\pi/2) + \\frac{3 \\cdot \\pi/2^2}{2}) - (\\sin(-\\pi/2) + \\frac{3 \\cdot (-\\pi/2)^2}{2}) = (1 + \\frac{3\\pi^2}{8}) - (-1 + \\frac{3\\pi^2}{8}) = 1 + \\frac{3\\pi^2}{8} + 1 - \\frac{3\\pi^2}{8} = 2 $\n"
      ]
    },
    {
      "cell_type": "markdown",
      "metadata": {
        "id": "fKyo_FOBa5KW"
      },
      "source": [
        "> Exercise 4E\n",
        "\n",
        "$ \\int_0^2 x^3 \\text{d} x^2 = \\int_0^2 2x^4 dx = \\int_0^2 \\text{d}(\\frac{2x^5}{5}) = F(2) - F(0) = (\\frac{2(2^5)}{5}) - (\\frac{2(0^5)}{5}) = \\frac{2 \\cdot 2^5}{5} - 0 = \\frac{2^6}{5} = 12 \\frac{4}{5} $\n"
      ]
    },
    {
      "cell_type": "markdown",
      "metadata": {
        "id": "XYC0z6Tua6Es"
      },
      "source": [
        "> Exercise 4F\n",
        "\n",
        "$ \\int_1^2 \\frac{1}{x} \\text{d} x = \\int_1^2 d(\\log(x)) = F(2) - F(1) = \\log(2) - \\log(1) = \\log(2) $\n"
      ]
    },
    {
      "cell_type": "markdown",
      "metadata": {
        "id": "-0uitwV7a7lb"
      },
      "source": [
        "> Exercise 4G\n",
        "\n",
        "$ \\int_1^2 \\frac{1}{x^2} \\text{d} x = \\int_1^2 \\text{d} (-\\frac{1}{x}) = F(2) - F(1) = (-\\frac{1}{2}) - (-\\frac{1}{1}) = -\\frac{1}{2} + 1 = \\frac{1}{2} $\n"
      ]
    },
    {
      "cell_type": "markdown",
      "metadata": {
        "id": "prCJ1h2ma8je"
      },
      "source": [
        "> Exercise 4H\n",
        "\n",
        "$ \\int_1^3 \\frac{x + 2}{x^2} \\text{d} x = \\int_1^3 \\text{d}(\\ln(|x|) - \\frac{2}{x}) = F(3) - F(1) = (\\ln(3) - \\frac{2}{3}) - (\\ln(|1|) - \\frac{2}{3}) = (\\ln(3) - \\frac{2}{3}) - (-\\frac{2}{3}) = \\ln(3) + \\frac{4}{3}$\n",
        "\n",
        "<br>\n",
        "\n",
        "$\\frac{x + 2}{x^2}dx = \\frac{x}{x^2}dx + \\frac{2}{x^2}dx = \\frac{1}{x}dx + \\frac{2}{x^2}dx = \\text{d}(\\ln(x) - \\frac{2}{x})$\n"
      ]
    },
    {
      "cell_type": "markdown",
      "metadata": {
        "id": "YyIKf0tsakjZ"
      },
      "source": [
        "## Solved exercise 4\n",
        "You don't always need to transform integrals with respect to differentials into regular integrals. It is often easier to keep them as they are. For example, the integral\n",
        "\n",
        "$$\n",
        "\\int_0^1 x^2 \\text{d} x^2\n",
        "$$\n",
        "\n",
        "can be solved by introducing the new variable $y(x) = x^2$. Replacing this in the formula, we get\n",
        "\n",
        "$$\n",
        "\\int_0^2 x^2 \\text{d} x^2 = \\int_0^2 y(x) \\text{d} y(x) = \\int_0^2 \\frac{1}{2} \\text{d}  y(x)^2 = \\frac{1}{2} \\left(y(1)^2 - y(0)^2 \\right) = \\frac{1}{2} \\left(y(2)^2 - y(0)^2 \\right) = \\frac{2^4}{2} = 2^3\n",
        "$$\n",
        "\n",
        "where we used the formula $\\text{d} y(x)^2 = 2 y(x) \\text{d} y(x)$.\n",
        "\n",
        "### Exercises 5\n",
        "Solve the following integrals:\n",
        "- $\\int_0^1 e^{x^2} \\text{d}x^2$\n",
        "- $\\int_0^1 e^{2x} \\text{d} e^x$\n",
        "- $\\int_{-1}^1 \\left(\\cos(x^2) + x^4 \\right) \\text{d}x^2$\n",
        "\n",
        "#### Solutions\n",
        "- $e - 1$\n",
        "- $\\frac{1}{3}(e^3 - 1)$\n",
        "- $ 0 $"
      ]
    },
    {
      "cell_type": "markdown",
      "metadata": {
        "id": "22ztgo3Pa_Lh"
      },
      "source": [
        "> Exercise 5A\n",
        "\n",
        "$\\int_0^1 e^{x^2} \\text{d}x^2 = \\int_0^1 e^{y(x)} \\text{d}y(x) = F(1) - F(0) = e^1 - e^0 = e - 1$"
      ]
    },
    {
      "cell_type": "markdown",
      "metadata": {
        "id": "2L0Pwzr8a_u9"
      },
      "source": [
        "> Exercise 5B\n",
        "\n",
        "$\\int_0^1 e^{2x} \\text{d} e^x = \\int_0^1 y(x)^{2} \\text{d} y(x) = \\int_0^1 d(\\frac{y(x)^3}{3}) = F(1) - F(0) = (\\frac{y(1)^3}{3}) - (\\frac{y(0)^3}{3}) =  (\\frac{(e^1)^3}{3}) - (\\frac{(e^0)^3}{3}) = \\frac{e^3}{3} - \\frac{1}{3} = \\frac{1}{3} (e^3 - 1)$\n",
        "\n"
      ]
    },
    {
      "cell_type": "markdown",
      "metadata": {
        "id": "n9GjrFi7bAM9"
      },
      "source": [
        "> Exercise 5C\n",
        "\n",
        "$\\int_{-1}^1 \\left(\\cos(x^2) + x^4 \\right) \\text{d}x^2 = \\int_{-1}^1 \\cos(y(x)) + y(x)^2) dy(x) = \\int_{-1}^1 d(\\sin(y(x)) + \\frac{y(x)^3}{3}) = F(1) - F(-1) = (\\sin(y(1)) + \\frac{y(1)^3}{3}) - (\\sin(y(-1)) + \\frac{y(-1)^3}{3}) = (\\sin(1^2) + \\frac{(1^2)^3}{3}) - (\\sin((-1)^2) + \\frac{((-1)^2)^3}{3}) = (\\sin(1) + \\frac{1}{3}) - (\\sin(1) + \\frac{1}{3}) = \\sin(1) + \\frac{1}{3} - \\sin(1) - \\frac{1}{3} = 0$"
      ]
    }
  ]
}